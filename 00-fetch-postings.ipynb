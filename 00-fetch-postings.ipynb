{
 "cells": [
  {
   "cell_type": "markdown",
   "id": "abac81ef-926a-48ea-af31-44a989802331",
   "metadata": {},
   "source": [
    "# Jobs\n",
    "> This script fetches, processes and analyzes [job postings by Netflix](https://jobs.netflix.com/search?page=2&location=Los%20Angeles%2C%20California~Remote%2C) for its Los Angeles office. "
   ]
  },
  {
   "cell_type": "markdown",
   "id": "67eb7cdd-8b30-4f7a-96bd-dc3beb83eed0",
   "metadata": {},
   "source": [
    "#### Load Python tools and Jupyter config"
   ]
  },
  {
   "cell_type": "code",
   "execution_count": 81,
   "id": "b285ab04-b493-43dd-96b3-4a60af280cc9",
   "metadata": {},
   "outputs": [],
   "source": [
    "import re\n",
    "import json\n",
    "import sqlite3\n",
    "import requests\n",
    "import numpy as np\n",
    "import pandas as pd\n",
    "import jupyter_black\n",
    "import altair as alt\n",
    "from bs4 import BeautifulSoup\n",
    "from tqdm.notebook import tqdm\n",
    "from collections import Counter"
   ]
  },
  {
   "cell_type": "code",
   "execution_count": 22,
   "id": "c3de636b-5eac-49e7-8e42-872a5c9714fa",
   "metadata": {},
   "outputs": [],
   "source": [
    "jupyter_black.load()\n",
    "pd.options.display.max_columns = 20\n",
    "pd.options.display.max_rows = 20\n",
    "pd.options.display.max_colwidth = None"
   ]
  },
  {
   "cell_type": "code",
   "execution_count": 3,
   "id": "8ee401f6-97a9-4559-94d5-2f420c3181a3",
   "metadata": {},
   "outputs": [],
   "source": [
    "today = pd.Timestamp(\"today\").strftime(\"%Y%m%d\")"
   ]
  },
  {
   "cell_type": "markdown",
   "id": "4a5718d1-1bb1-4c9c-96ed-263731d8b1b9",
   "metadata": {},
   "source": [
    "---"
   ]
  },
  {
   "cell_type": "markdown",
   "id": "85b486d7-be6c-41a2-b443-a60a498ebc5c",
   "metadata": {},
   "source": [
    "## Fetch"
   ]
  },
  {
   "cell_type": "markdown",
   "id": "54972fa3-b934-44d5-9e89-3b76fe0c7905",
   "metadata": {},
   "source": [
    "#### Headers and parameters for initial request"
   ]
  },
  {
   "cell_type": "code",
   "execution_count": 4,
   "id": "539a6a79-5f1a-463c-adbb-c0008796d8a3",
   "metadata": {},
   "outputs": [],
   "source": [
    "headers = {\n",
    "    \"authority\": \"jobs.netflix.com\",\n",
    "    \"user-agent\": \"Mozilla/5.0 (Macintosh; Intel Mac OS X 10_15_7) AppleWebKit/537.36 (KHTML, like Gecko) Chrome/122.0.0.0 Safari/537.36\",\n",
    "}\n",
    "\n",
    "params = {}"
   ]
  },
  {
   "cell_type": "markdown",
   "id": "4f4eca59-8aeb-4f1e-9278-f9b614846a37",
   "metadata": {},
   "source": [
    "#### Initial request to get the total number of pages"
   ]
  },
  {
   "cell_type": "code",
   "execution_count": 5,
   "id": "9c9f7b7d-3714-48ac-99ba-236a5dc92514",
   "metadata": {},
   "outputs": [],
   "source": [
    "response = requests.get(\n",
    "    \"https://jobs.netflix.com/api/search\", params=params, headers=headers\n",
    ")\n",
    "data = response.json()\n",
    "total_pages = data[\"info\"][\"postings\"][\"num_pages\"]"
   ]
  },
  {
   "cell_type": "markdown",
   "id": "6db7a865-db92-4d10-8353-33ba91e8e985",
   "metadata": {},
   "source": [
    "#### Loop through each page to fetch postings"
   ]
  },
  {
   "cell_type": "code",
   "execution_count": null,
   "id": "cc83a5a3-7074-4b07-9702-31349a565e8b",
   "metadata": {},
   "outputs": [
    {
     "data": {
      "application/vnd.jupyter.widget-view+json": {
       "model_id": "8349fa6f9fee4540a52ed71dc973fdc7",
       "version_major": 2,
       "version_minor": 0
      },
      "text/plain": [
       "  0%|          | 0/20 [00:00<?, ?it/s]"
      ]
     },
     "metadata": {},
     "output_type": "display_data"
    }
   ],
   "source": [
    "all_postings = []\n",
    "\n",
    "for page in tqdm(range(1, total_pages + 1)):\n",
    "    params[\"page\"] = page\n",
    "    response = requests.get(\n",
    "        \"https://jobs.netflix.com/api/search\", params=params, headers=headers\n",
    "    )\n",
    "    postings = response.json()[\"records\"][\"postings\"]\n",
    "\n",
    "    all_postings.extend(postings)"
   ]
  },
  {
   "cell_type": "markdown",
   "id": "6d825634-8b8c-4ca1-9fb4-a38b5f0a9fac",
   "metadata": {},
   "source": [
    "---"
   ]
  },
  {
   "cell_type": "markdown",
   "id": "d5c8c832-cdb3-4161-bb15-65048434ed9f",
   "metadata": {},
   "source": [
    "## Process"
   ]
  },
  {
   "cell_type": "markdown",
   "id": "cd81d5a2-4e50-49a0-9425-183e7b415350",
   "metadata": {},
   "source": [
    "#### Convert the list of postings into a pandas DataFrame"
   ]
  },
  {
   "cell_type": "code",
   "execution_count": 7,
   "id": "f7e61869-42b8-4880-b695-9fe7ac1ec80d",
   "metadata": {},
   "outputs": [],
   "source": [
    "cols = [\n",
    "    \"external_id\",\n",
    "    \"slug\",\n",
    "    \"text\",\n",
    "    \"department\",\n",
    "    \"team\",\n",
    "    \"state\",\n",
    "    \"updated_at\",\n",
    "    \"created_at\",\n",
    "    \"location\",\n",
    "    \"organization\",\n",
    "    \"subteam\",\n",
    "    \"lever_team\",\n",
    "    \"description\",\n",
    "    \"search_text\",\n",
    "]\n",
    "\n",
    "src = pd.DataFrame(all_postings)[cols]"
   ]
  },
  {
   "cell_type": "code",
   "execution_count": 8,
   "id": "8828e52a-a23d-438b-a798-9bc99897b6ad",
   "metadata": {},
   "outputs": [],
   "source": [
    "src = pd.DataFrame(all_postings)[cols]"
   ]
  },
  {
   "cell_type": "markdown",
   "id": "76c0b6ee-6018-404f-af73-99ac643ce93a",
   "metadata": {},
   "source": [
    "#### Deal with lists in some columns"
   ]
  },
  {
   "cell_type": "code",
   "execution_count": 9,
   "id": "4bd45cdc-77e6-4bc0-bb5a-b03e442267d4",
   "metadata": {},
   "outputs": [],
   "source": [
    "def extract_first_item(list_like):\n",
    "    \"\"\"Extract the first item from a list-like object or return None if empty.\"\"\"\n",
    "    if list_like and isinstance(list_like, list):\n",
    "        return list_like[0]\n",
    "    return None"
   ]
  },
  {
   "cell_type": "markdown",
   "id": "73d2dcaf-57e1-4cce-aaca-f0e4a349c6ed",
   "metadata": {},
   "source": [
    "#### Apply the function to each list column"
   ]
  },
  {
   "cell_type": "code",
   "execution_count": 10,
   "id": "23a0b2d7-9b78-4de4-bff0-ca2aafedfe73",
   "metadata": {},
   "outputs": [],
   "source": [
    "src[\"team\"] = src[\"team\"].apply(extract_first_item)\n",
    "src[\"subteam\"] = src[\"subteam\"].apply(extract_first_item)\n",
    "src[\"organization\"] = src[\"organization\"].apply(extract_first_item)"
   ]
  },
  {
   "cell_type": "markdown",
   "id": "f522a9f3-a59b-464b-9afd-24ddc73581ce",
   "metadata": {},
   "source": [
    "#### Strip markup from description columns"
   ]
  },
  {
   "cell_type": "code",
   "execution_count": 11,
   "id": "b8e0c067-3f15-4529-9079-053deb16f189",
   "metadata": {},
   "outputs": [],
   "source": [
    "def strip_html_tags(content):\n",
    "    \"\"\"Remove HTML tags from the provided content.\"\"\"\n",
    "    if content:\n",
    "        soup = BeautifulSoup(content, \"html.parser\")\n",
    "        return soup.get_text(separator=\" \", strip=True)\n",
    "    return content"
   ]
  },
  {
   "cell_type": "markdown",
   "id": "132d6c43-d494-44e2-a9ac-9e20c7cd2a6d",
   "metadata": {},
   "source": [
    "#### Apply the function to strip HTML from the 'description' and 'search_text' columns"
   ]
  },
  {
   "cell_type": "code",
   "execution_count": 12,
   "id": "418de9c8-4485-47c9-8dd2-61237e2d4607",
   "metadata": {},
   "outputs": [],
   "source": [
    "src[\"description\"] = src[\"description\"].apply(strip_html_tags)\n",
    "src[\"search_text\"] = src[\"search_text\"].apply(strip_html_tags)"
   ]
  },
  {
   "cell_type": "markdown",
   "id": "42ec5214-1ec0-4c18-973e-7408440cb7a8",
   "metadata": {},
   "source": [
    "#### Deal with all dates"
   ]
  },
  {
   "cell_type": "code",
   "execution_count": null,
   "id": "4a06da8d-9eb5-468d-85a8-7d43ca66cee2",
   "metadata": {},
   "outputs": [],
   "source": [
    "src[\"created_at\"] = pd.to_datetime(src[\"created_at\"])\n",
    "src[\"updated_at\"] = pd.to_datetime(src[\"updated_at\"])"
   ]
  },
  {
   "cell_type": "markdown",
   "id": "a80bd130-506e-429d-aa86-eefd6cd17bef",
   "metadata": {},
   "source": [
    "---"
   ]
  },
  {
   "cell_type": "markdown",
   "id": "5c58effb-cdde-41f6-919b-f6355b3b0b21",
   "metadata": {},
   "source": [
    "## Extract"
   ]
  },
  {
   "cell_type": "markdown",
   "id": "9f2cd9ac-c795-4322-ae2b-cbbd663f734f",
   "metadata": {},
   "source": [
    "#### Function to extract salary ranges"
   ]
  },
  {
   "cell_type": "code",
   "execution_count": 77,
   "id": "cdd45f70-343b-4b10-9392-dea92ad86301",
   "metadata": {},
   "outputs": [],
   "source": [
    "def extract_salary(text):\n",
    "    pattern = r\"the\\s+range\\s+for\\s+this\\s+role\\s+is\\s+(\\$\\d{1,3}(?:,\\d{3})+)(?:\\s*-\\s*(\\$\\d{1,3}(?:,\\d{3})+))?\"\n",
    "    match = re.search(pattern, text, re.IGNORECASE)\n",
    "\n",
    "    if match:\n",
    "        return match.group(1), match.group(2) if match.group(2) else np.nan\n",
    "    return np.nan, np.nan"
   ]
  },
  {
   "cell_type": "markdown",
   "id": "22738b52-66fe-4350-a628-a88fadb72f87",
   "metadata": {},
   "source": [
    "#### Apply the function and directly split the results into two new columns"
   ]
  },
  {
   "cell_type": "code",
   "execution_count": 78,
   "id": "e36bbaef-b23c-408d-bbb8-ac91e58eb92f",
   "metadata": {},
   "outputs": [],
   "source": [
    "src[\"salary_lower\"], src[\"salary_upper\"] = zip(\n",
    "    *src[\"description\"].apply(extract_salary)\n",
    ")"
   ]
  },
  {
   "cell_type": "markdown",
   "id": "72feff79-ef18-43ce-bda7-3baeebf58d64",
   "metadata": {},
   "source": [
    "#### Function to clean and convert salary values"
   ]
  },
  {
   "cell_type": "code",
   "execution_count": 79,
   "id": "0ed13da3-75f7-4ea5-8d4a-657bf296efb4",
   "metadata": {},
   "outputs": [],
   "source": [
    "def clean_salary(salary):\n",
    "    if pd.isna(salary):\n",
    "        return np.nan\n",
    "    return float(salary.replace(\"$\", \"\").replace(\",\", \"\"))"
   ]
  },
  {
   "cell_type": "markdown",
   "id": "475f63e9-404c-4a80-aff2-c40433ffa946",
   "metadata": {},
   "source": [
    "#### Clean and convert salary columns"
   ]
  },
  {
   "cell_type": "code",
   "execution_count": 80,
   "id": "1bc9c2a1-d29f-418d-b71c-f3479a1ff955",
   "metadata": {},
   "outputs": [],
   "source": [
    "src[\"salary_lower\"] = src[\"salary_lower\"].apply(clean_salary)\n",
    "src[\"salary_upper\"] = src[\"salary_upper\"].apply(clean_salary)"
   ]
  },
  {
   "cell_type": "markdown",
   "id": "dff6661e-2bc6-4177-9380-b6f68ee8e66f",
   "metadata": {},
   "source": [
    "#### On the hunt for data science-y roles"
   ]
  },
  {
   "cell_type": "code",
   "execution_count": 117,
   "id": "6c18334b-f76d-43a0-91c0-aee75b7c1cc3",
   "metadata": {},
   "outputs": [],
   "source": [
    "keywords = {\n",
    "    \"data science\": [\n",
    "        \"database\",\n",
    "        \"data science\",\n",
    "        \"machine learning\",\n",
    "        \"deep learning\",\n",
    "        \"statistics\",\n",
    "        \"predictive modeling\",\n",
    "        \"data analysis\",\n",
    "        \"natural language processing\",\n",
    "        \"NLP\",\n",
    "        \"computer vision\",\n",
    "        \"AI\",\n",
    "        \"artificial intelligence\",\n",
    "        \"python\",\n",
    "    ],\n",
    "    \"data engineering\": [\n",
    "        \"data engineering\",\n",
    "        \"ETL\",\n",
    "        \"data pipeline\",\n",
    "        \"data storage\",\n",
    "        \"big data\",\n",
    "        \"Hadoop\",\n",
    "        \"Spark\",\n",
    "        \"Apache Airflow\",\n",
    "        \"streaming data\",\n",
    "        \"data architecture\",\n",
    "        \"database design\",\n",
    "        \"SQL\",\n",
    "    ],\n",
    "    \"data visualization\": [\n",
    "        \"visualization\",\n",
    "        \"Tableau\",\n",
    "        \"Power BI\",\n",
    "        \"D3.js\",\n",
    "        \"matplotlib\",\n",
    "        \"plotly\",\n",
    "        \"ggplot\",\n",
    "        \"dashboards\",\n",
    "        \"visual analytics\",\n",
    "        \"data presentation\",\n",
    "    ],\n",
    "}"
   ]
  },
  {
   "cell_type": "markdown",
   "id": "58c9053f-6f97-44fd-b948-19d35ea74b83",
   "metadata": {},
   "source": [
    "#### Function to extract our keywords"
   ]
  },
  {
   "cell_type": "code",
   "execution_count": 118,
   "id": "d7703b40-1682-4930-9732-de35a13fd7c5",
   "metadata": {},
   "outputs": [],
   "source": [
    "def extract_keywords(description, keywords):\n",
    "    found_keywords = []\n",
    "    description_lower = description.lower()\n",
    "    for category, keys in keywords.items():\n",
    "        for key in keys:\n",
    "            if key.lower() in description_lower and key.lower() not in found_keywords:\n",
    "                found_keywords.append(key.lower())\n",
    "    return found_keywords"
   ]
  },
  {
   "cell_type": "markdown",
   "id": "5c891a88-dced-4903-8e35-d6cf660f55ab",
   "metadata": {},
   "source": [
    "#### Place the keywords in a column"
   ]
  },
  {
   "cell_type": "code",
   "execution_count": 119,
   "id": "21e9ab05-82ae-4e4d-9f1e-bde4c94c67a5",
   "metadata": {},
   "outputs": [],
   "source": [
    "src[\"keywords\"] = src[\"description\"].apply(lambda x: extract_keywords(x, keywords))"
   ]
  },
  {
   "cell_type": "markdown",
   "id": "4b6eaa73-331a-457d-9ede-3a10c8284392",
   "metadata": {},
   "source": [
    "---"
   ]
  },
  {
   "cell_type": "markdown",
   "id": "df56821c-ed6f-4d3d-942f-b323aa81e328",
   "metadata": {},
   "source": [
    "## Store"
   ]
  },
  {
   "cell_type": "markdown",
   "id": "fb289b14-c3c2-4696-8c29-b20fd712b8b3",
   "metadata": {},
   "source": [
    "#### A clean dataframe"
   ]
  },
  {
   "cell_type": "code",
   "execution_count": 15,
   "id": "4fdef15f-0d19-49ad-85d4-bfb11377e43f",
   "metadata": {},
   "outputs": [],
   "source": [
    "df = src.copy()"
   ]
  },
  {
   "cell_type": "markdown",
   "id": "f953b71d-db16-455c-a5c3-b2ca3a913048",
   "metadata": {},
   "source": [
    "#### Connect to a SQLite database"
   ]
  },
  {
   "cell_type": "code",
   "execution_count": 16,
   "id": "d00dfcfd-38c8-4f06-b62c-98f3ea5be6f7",
   "metadata": {},
   "outputs": [],
   "source": [
    "conn = sqlite3.connect(\"data/db/netflix_jobs.db\")"
   ]
  },
  {
   "cell_type": "markdown",
   "id": "546bafcc-457c-4e2d-9529-c1ad3f787214",
   "metadata": {},
   "source": [
    "#### Prepare data types for the database"
   ]
  },
  {
   "cell_type": "code",
   "execution_count": 17,
   "id": "25bfbce8-2d53-4277-ba86-30d134eaea93",
   "metadata": {},
   "outputs": [],
   "source": [
    "df = df.astype(str)\n",
    "df[\"created_at\"] = pd.to_datetime(df[\"created_at\"]).astype(str)\n",
    "df[\"updated_at\"] = pd.to_datetime(df[\"updated_at\"]).astype(str)"
   ]
  },
  {
   "cell_type": "markdown",
   "id": "172a5d6e-5388-48e2-a8ce-8925f417cda6",
   "metadata": {},
   "source": [
    "#### Store the dataframe as a table in the database"
   ]
  },
  {
   "cell_type": "code",
   "execution_count": 18,
   "id": "332d60de-1565-489c-bce2-e5550c44bcc2",
   "metadata": {},
   "outputs": [
    {
     "data": {
      "text/plain": [
       "390"
      ]
     },
     "execution_count": 18,
     "metadata": {},
     "output_type": "execute_result"
    }
   ],
   "source": [
    "df.to_sql(\"jobs\", conn, if_exists=\"replace\", index=False)"
   ]
  },
  {
   "cell_type": "markdown",
   "id": "c2f9243c-5c02-41b2-8836-25ef5ba11e47",
   "metadata": {},
   "source": [
    "#### Use Pandas to execute a query for 'data' jobs that are remote or in LA"
   ]
  },
  {
   "cell_type": "code",
   "execution_count": 19,
   "id": "d1e93b54-7d91-47f3-9855-1507291f6df9",
   "metadata": {},
   "outputs": [],
   "source": [
    "query = \"\"\"\n",
    "SELECT * FROM jobs \n",
    "WHERE \n",
    "    (location LIKE '%Los Angeles%' OR location LIKE '%Remote%') \n",
    "    AND \n",
    "    team LIKE '%Data%';\n",
    "\"\"\"\n",
    "df_query_results = pd.read_sql_query(query, conn)"
   ]
  },
  {
   "cell_type": "markdown",
   "id": "eb8cba74-e06b-4c90-981c-c893151fb2ec",
   "metadata": {},
   "source": [
    "#### Display some tidy results"
   ]
  },
  {
   "cell_type": "code",
   "execution_count": 20,
   "id": "5e0f7012-f829-40bb-9079-b670df16b04d",
   "metadata": {},
   "outputs": [
    {
     "data": {
      "text/html": [
       "<div>\n",
       "<style scoped>\n",
       "    .dataframe tbody tr th:only-of-type {\n",
       "        vertical-align: middle;\n",
       "    }\n",
       "\n",
       "    .dataframe tbody tr th {\n",
       "        vertical-align: top;\n",
       "    }\n",
       "\n",
       "    .dataframe thead th {\n",
       "        text-align: right;\n",
       "    }\n",
       "</style>\n",
       "<table border=\"1\" class=\"dataframe\">\n",
       "  <thead>\n",
       "    <tr style=\"text-align: right;\">\n",
       "      <th></th>\n",
       "      <th>external_id</th>\n",
       "      <th>slug</th>\n",
       "      <th>text</th>\n",
       "      <th>department</th>\n",
       "      <th>team</th>\n",
       "      <th>state</th>\n",
       "      <th>updated_at</th>\n",
       "      <th>created_at</th>\n",
       "      <th>location</th>\n",
       "      <th>organization</th>\n",
       "      <th>subteam</th>\n",
       "      <th>lever_team</th>\n",
       "    </tr>\n",
       "  </thead>\n",
       "  <tbody>\n",
       "    <tr>\n",
       "      <th>0</th>\n",
       "      <td>321802958</td>\n",
       "      <td>machine-learning-scientist-l4-content-dse</td>\n",
       "      <td>Machine Learning Scientist (L4) - Content DSE</td>\n",
       "      <td>Streaming</td>\n",
       "      <td>Data Science and Engineering</td>\n",
       "      <td>Public</td>\n",
       "      <td>2024-04-03 18:30:12+00:00</td>\n",
       "      <td>2024-03-14 22:09:27+00:00</td>\n",
       "      <td>Los Angeles, California</td>\n",
       "      <td>None</td>\n",
       "      <td>Data Science and Engineering</td>\n",
       "      <td>Content and Marketing DSE</td>\n",
       "    </tr>\n",
       "    <tr>\n",
       "      <th>1</th>\n",
       "      <td>321813901</td>\n",
       "      <td>capacity-planner-l5-live</td>\n",
       "      <td>Capacity Planner, L5</td>\n",
       "      <td>Streaming</td>\n",
       "      <td>Data Platform</td>\n",
       "      <td>Public</td>\n",
       "      <td>2024-04-03 18:30:23+00:00</td>\n",
       "      <td>2024-03-12 14:34:37+00:00</td>\n",
       "      <td>Remote, United States</td>\n",
       "      <td>None</td>\n",
       "      <td>Streaming Delivery</td>\n",
       "      <td>Streaming Delivery</td>\n",
       "    </tr>\n",
       "    <tr>\n",
       "      <th>2</th>\n",
       "      <td>321386898</td>\n",
       "      <td>senior-data-scientist-l5-games</td>\n",
       "      <td>Senior Data Scientist (L5), Games</td>\n",
       "      <td>Streaming</td>\n",
       "      <td>Data Science and Engineering</td>\n",
       "      <td>Public</td>\n",
       "      <td>2024-04-03 18:30:23+00:00</td>\n",
       "      <td>2024-03-12 00:01:28+00:00</td>\n",
       "      <td>Remote, United States</td>\n",
       "      <td>None</td>\n",
       "      <td>Data Science and Engineering</td>\n",
       "      <td>Data Science and Engineering</td>\n",
       "    </tr>\n",
       "    <tr>\n",
       "      <th>3</th>\n",
       "      <td>324499792</td>\n",
       "      <td>data-engineer-l4-privacy</td>\n",
       "      <td>Data Engineer (L4) - Privacy</td>\n",
       "      <td>Streaming</td>\n",
       "      <td>Data Science and Engineering</td>\n",
       "      <td>Public</td>\n",
       "      <td>2024-04-03 18:30:23+00:00</td>\n",
       "      <td>2024-02-28 20:05:07+00:00</td>\n",
       "      <td>Remote, United States</td>\n",
       "      <td>None</td>\n",
       "      <td>Data Science and Engineering</td>\n",
       "      <td>Data Science and Engineering</td>\n",
       "    </tr>\n",
       "    <tr>\n",
       "      <th>4</th>\n",
       "      <td>324499162</td>\n",
       "      <td>data-engineer-l5-privacy</td>\n",
       "      <td>Data Engineer (L5) - Privacy</td>\n",
       "      <td>Streaming</td>\n",
       "      <td>Data Science and Engineering</td>\n",
       "      <td>Public</td>\n",
       "      <td>2024-04-03 18:30:16+00:00</td>\n",
       "      <td>2024-02-28 20:02:53+00:00</td>\n",
       "      <td>Remote, United States</td>\n",
       "      <td>Products &amp; Technology</td>\n",
       "      <td>Data Science and Engineering</td>\n",
       "      <td>Data Science and Engineering</td>\n",
       "    </tr>\n",
       "  </tbody>\n",
       "</table>\n",
       "</div>"
      ],
      "text/plain": [
       "  external_id                                       slug  \\\n",
       "0   321802958  machine-learning-scientist-l4-content-dse   \n",
       "1   321813901                   capacity-planner-l5-live   \n",
       "2   321386898             senior-data-scientist-l5-games   \n",
       "3   324499792                   data-engineer-l4-privacy   \n",
       "4   324499162                   data-engineer-l5-privacy   \n",
       "\n",
       "                                            text department  \\\n",
       "0  Machine Learning Scientist (L4) - Content DSE  Streaming   \n",
       "1                           Capacity Planner, L5  Streaming   \n",
       "2              Senior Data Scientist (L5), Games  Streaming   \n",
       "3                   Data Engineer (L4) - Privacy  Streaming   \n",
       "4                   Data Engineer (L5) - Privacy  Streaming   \n",
       "\n",
       "                           team   state                 updated_at  \\\n",
       "0  Data Science and Engineering  Public  2024-04-03 18:30:12+00:00   \n",
       "1                 Data Platform  Public  2024-04-03 18:30:23+00:00   \n",
       "2  Data Science and Engineering  Public  2024-04-03 18:30:23+00:00   \n",
       "3  Data Science and Engineering  Public  2024-04-03 18:30:23+00:00   \n",
       "4  Data Science and Engineering  Public  2024-04-03 18:30:16+00:00   \n",
       "\n",
       "                  created_at                 location           organization  \\\n",
       "0  2024-03-14 22:09:27+00:00  Los Angeles, California                   None   \n",
       "1  2024-03-12 14:34:37+00:00    Remote, United States                   None   \n",
       "2  2024-03-12 00:01:28+00:00    Remote, United States                   None   \n",
       "3  2024-02-28 20:05:07+00:00    Remote, United States                   None   \n",
       "4  2024-02-28 20:02:53+00:00    Remote, United States  Products & Technology   \n",
       "\n",
       "                        subteam                    lever_team  \n",
       "0  Data Science and Engineering     Content and Marketing DSE  \n",
       "1            Streaming Delivery            Streaming Delivery  \n",
       "2  Data Science and Engineering  Data Science and Engineering  \n",
       "3  Data Science and Engineering  Data Science and Engineering  \n",
       "4  Data Science and Engineering  Data Science and Engineering  "
      ]
     },
     "execution_count": 20,
     "metadata": {},
     "output_type": "execute_result"
    }
   ],
   "source": [
    "df_query_results[\n",
    "    [\n",
    "        \"external_id\",\n",
    "        \"slug\",\n",
    "        \"text\",\n",
    "        \"department\",\n",
    "        \"team\",\n",
    "        \"state\",\n",
    "        \"updated_at\",\n",
    "        \"created_at\",\n",
    "        \"location\",\n",
    "        \"organization\",\n",
    "        \"subteam\",\n",
    "        \"lever_team\",\n",
    "    ]\n",
    "].head()"
   ]
  },
  {
   "cell_type": "markdown",
   "id": "f6d7db51-974c-4d72-9609-de1b7351787d",
   "metadata": {},
   "source": [
    "---"
   ]
  },
  {
   "cell_type": "markdown",
   "id": "8246f9cc-f8dd-4742-b54c-91ba06179645",
   "metadata": {},
   "source": [
    "## Exports"
   ]
  },
  {
   "cell_type": "markdown",
   "id": "9cf13fc3-e8e4-454c-b35e-1c0f5a43e7d5",
   "metadata": {},
   "source": [
    "#### CSV format"
   ]
  },
  {
   "cell_type": "code",
   "execution_count": null,
   "id": "68d591f0-aa59-4920-8d59-3cf6b7f310f2",
   "metadata": {},
   "outputs": [],
   "source": [
    "df.to_csv(\"data/processed/netflix_listings.csv\", index=False)"
   ]
  },
  {
   "cell_type": "markdown",
   "id": "a9352b1b-d98b-4f79-b5ba-00e690c39179",
   "metadata": {},
   "source": [
    "#### JSON format"
   ]
  },
  {
   "cell_type": "code",
   "execution_count": null,
   "id": "3730823e-4a36-4597-9aa4-0fbfd7ff0e68",
   "metadata": {},
   "outputs": [],
   "source": [
    "df.to_json(\"data/processed/netflix_listings.json\", indent=4, orient=\"records\")"
   ]
  }
 ],
 "metadata": {
  "kernelspec": {
   "display_name": "Python 3 (ipykernel)",
   "language": "python",
   "name": "python3"
  },
  "language_info": {
   "codemirror_mode": {
    "name": "ipython",
    "version": 3
   },
   "file_extension": ".py",
   "mimetype": "text/x-python",
   "name": "python",
   "nbconvert_exporter": "python",
   "pygments_lexer": "ipython3",
   "version": "3.10.9"
  }
 },
 "nbformat": 4,
 "nbformat_minor": 5
}
